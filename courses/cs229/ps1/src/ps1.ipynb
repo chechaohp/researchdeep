{
 "cells": [
  {
   "cell_type": "code",
   "execution_count": 5,
   "metadata": {},
   "outputs": [
    {
     "name": "stdout",
     "output_type": "stream",
     "text": [
      "tau= [0.03, 0.05, 0.1, 0.5, 1.0, 10.0]\n",
      "mse= [0.01809616 0.01240008 0.02422459 0.33053127 0.40009595 0.43374392]\n"
     ]
    }
   ],
   "source": [
    "!python run.py 5"
   ]
  }
 ],
 "metadata": {
  "kernelspec": {
   "display_name": "Python 3",
   "language": "python",
   "name": "python3"
  },
  "language_info": {
   "codemirror_mode": {
    "name": "ipython",
    "version": 3
   },
   "file_extension": ".py",
   "mimetype": "text/x-python",
   "name": "python",
   "nbconvert_exporter": "python",
   "pygments_lexer": "ipython3",
   "version": "3.6.8"
  }
 },
 "nbformat": 4,
 "nbformat_minor": 2
}
