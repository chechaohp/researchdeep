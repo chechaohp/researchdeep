{
 "cells": [
  {
   "cell_type": "code",
   "execution_count": 4,
   "metadata": {
    "scrolled": true
   },
   "outputs": [
    {
     "name": "stdout",
     "output_type": "stream",
     "text": [
      "Currently processing 0 / 400\n",
      "Cost and accuracy 2.7461442537589758 0.0725\n",
      "Currently processing 1 / 400\n"
     ]
    },
    {
     "name": "stderr",
     "output_type": "stream",
     "text": [
      "Traceback (most recent call last):\n",
      "  File \"p1_nn.py\", line 599, in <module>\n",
      "    \n",
      "  File \"p1_nn.py\", line 596, in main\n",
      "    'train': train_labels,\n",
      "  File \"p1_nn.py\", line 550, in run_train\n",
      "    params, cost_dev, accuracy_dev = nn_train(\n",
      "  File \"p1_nn.py\", line 514, in nn_train\n",
      "    \n",
      "  File \"p1_nn.py\", line 481, in gradient_descent_batch\n",
      "    total_grad[key] = np.zeros(value.shape)\n",
      "KeyError: 'W1'\n"
     ]
    }
   ],
   "source": [
    "!python p1_nn.py"
   ]
  },
  {
   "cell_type": "code",
   "execution_count": 3,
   "metadata": {},
   "outputs": [],
   "source": [
    "import numpy as np"
   ]
  },
  {
   "cell_type": "code",
   "execution_count": null,
   "metadata": {},
   "outputs": [],
   "source": []
  }
 ],
 "metadata": {
  "kernelspec": {
   "display_name": "Python 3",
   "language": "python",
   "name": "python3"
  },
  "language_info": {
   "codemirror_mode": {
    "name": "ipython",
    "version": 3
   },
   "file_extension": ".py",
   "mimetype": "text/x-python",
   "name": "python",
   "nbconvert_exporter": "python",
   "pygments_lexer": "ipython3",
   "version": "3.6.8"
  }
 },
 "nbformat": 4,
 "nbformat_minor": 2
}
